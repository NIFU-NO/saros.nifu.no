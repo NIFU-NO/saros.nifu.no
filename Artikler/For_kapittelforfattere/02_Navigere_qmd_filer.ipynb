{
  "cells": [
    {
      "cell_type": "raw",
      "metadata": {},
      "source": [
        "---\n",
        "title: Navigere QMD (Quarto)-filer generert av Saros\n",
        "---"
      ],
      "id": "39c60a95"
    },
    {
      "cell_type": "markdown",
      "metadata": {},
      "source": [
        "# Før du begynner\n",
        "\n",
        "-   Ta kopi av dine kapitler i utkastgenereringer-mappen til din egen mappe.\n",
        "-   Få med undermappen med samme navn som kapittelet.\n",
        "-   Pass på at filene ikke ligger i en mappe med lang stibaner på en Sharepoint/Teams-mappe. Dette vil skape trøbbel.\n",
        "\n",
        "## Ordliste\n",
        "\n",
        "::: callout-note\n",
        "\n",
        "Chunk\n",
        "\n",
        ":   En bit med R-kode, definert som alt mellom ```` ```{r} ```` og ```` ``` ````. Den kan ha spesielle innstillinger, indikert ved `#|` (kalt hashpipe), øverst. Ønsker man ikke å kjøre koden midlertidig (for eksempel om man er usikker på om den skal med) kan man kommentere ut selve koden (behold da innstillingene), eller slette det helt, og heller hente det inn igjen fra originalen om ønskelig.\n",
        "\n",
        "Render/kompilering\n",
        "\n",
        ":   Kjører alle chunkene og setter sammen dokumentet til f.eks. en HTML-side. Kan også kalles kompilere på norsk.\n",
        "\n",
        "YAML-hode\n",
        "\n",
        ":   YAML er en måte å skrive innstillinger for et dokument (potensielt også for et helt prosjekt) som er lesbart både for mennesker og datamaskinen. Vil aldri synes etter kompilering.\n",
        "\n",
        "Quarto/QMD\n",
        "\n",
        ":   Quarto er teknologien som setter sammen R-kode, vanlig tekst, med YAML-innstillinger, osv. QMD er filetternavnet for et slikt dokument.\n",
        ":::\n",
        "\n",
        "# Åpne QMD-filen\n",
        "\n",
        "1.  Trykk først på Edit ➠ Folding ➠ Collapse all.\n",
        "2.  Åpne en og en chunk ved å trykke på den. Lukke dem gjerne etterpå (pil på venstre side av chunken).\n",
        "3.  Forhåndsvis figurer, grafer, etc ved å trykke på grønn knapp til høyre på chunken.\n",
        "4.  Trykk på Show in new window over forhåndsvisningen for figurer som er større enn forhåndsvisningen. Juster eventuelt vinduet for å se alt.\n",
        "5.  Skriv tekst til resultatene.\n",
        "6.  Ønsker du å se hvordan alt ser ut til slutt? Trykk Render-knappen, og en HTML-side åpnes etter hvert. Får du feilmeldinger, les disse nøye og sjekk med [denne listen](../For_kapittelforfattere/99_feilmeldinger_under_rendering.qmd).\n",
        "    1.  For å spare tid i det lange løp bør du vurdere å sette på caching, som betyr at figurer og tabeller mellomlagres og gjenbrukes. Det tar ekstra lang tid (5x vanlig) å kjøre første gang, men så kan disse mellomlagrede versjonene benyttes senere om det ikke er noen endringer. Det vil være veldig nyttig dersom du bare jobber med en figur om gangen, eller bare med tekst. Dersom du gjør små endringer på mange figurer samtidig, i flere omganger, vil det ikke lønne seg tidsmessig.\n",
        "\n",
        "        ```{yaml}\n",
        "        execute: \n",
        "          cache: true # Plasseres under execute som du allerede har.\n",
        "        ```\n",
        "7.  Figurer som er så sammenpresset at man ikke kan lese teksten (eller motsatt, for stor), juster\n",
        "\n",
        "``` yaml\n",
        "#| fig-height: 4\n",
        "```\n",
        "\n",
        "9.  Utover høyde på figuren, farger i figurene og lignende, ikke overtenk layout. Veldig mye som skjer automatisk vil endres globalt når hele nettsiden kompileres. Men, figurer på se bra ut både i HTML-versjon (ganske enkelt) og Word (litt vanskeligere).\n",
        "10. "
      ],
      "id": "9b5cb6bc"
    }
  ],
  "metadata": {
    "kernelspec": {
      "display_name": "Python 3",
      "language": "python",
      "name": "python3"
    }
  },
  "nbformat": 4,
  "nbformat_minor": 5
}